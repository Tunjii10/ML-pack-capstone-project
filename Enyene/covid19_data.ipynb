{
  "nbformat": 4,
  "nbformat_minor": 0,
  "metadata": {
    "colab": {
      "name": "covid19-data.ipynb",
      "provenance": [],
      "collapsed_sections": [],
      "authorship_tag": "ABX9TyOe2dXWkuwMY0yBpKVoJKsN",
      "include_colab_link": true
    },
    "kernelspec": {
      "display_name": "Python 3",
      "name": "python3"
    },
    "language_info": {
      "name": "python"
    }
  },
  "cells": [
    {
      "cell_type": "markdown",
      "metadata": {
        "id": "view-in-github",
        "colab_type": "text"
      },
      "source": [
        "<a href=\"https://colab.research.google.com/github/enyeneraph/ML-pack-capstone-project/blob/main/Enyene/covid19_data.ipynb\" target=\"_parent\"><img src=\"https://colab.research.google.com/assets/colab-badge.svg\" alt=\"Open In Colab\"/></a>"
      ]
    },
    {
      "cell_type": "markdown",
      "metadata": {
        "id": "LzwCCnlEjZYJ"
      },
      "source": [
        "**Importing the necessary libraries**"
      ]
    },
    {
      "cell_type": "code",
      "metadata": {
        "id": "9mdgEWseGMnm"
      },
      "source": [
        "import pandas as pd\n",
        "import numpy as np\n",
        "import matplotlib.pyplot as plt\n",
        "import seaborn as sns\n",
        "%matplotlib inline\n",
        "pd.set_option(\"display.max_rows\", None, \"display.max_columns\", None)"
      ],
      "execution_count": 165,
      "outputs": []
    },
    {
      "cell_type": "markdown",
      "metadata": {
        "id": "jtrZdR_YjqYL"
      },
      "source": [
        "**Reading the dataset**"
      ]
    },
    {
      "cell_type": "code",
      "metadata": {
        "id": "u5urbQLSGX5M"
      },
      "source": [
        "df = pd.read_csv('https://raw.githubusercontent.com/enyeneraph/ML-pack-capstone-project/main/Kaggle_Sirio_Libanes_ICU_Prediction%20-%20Sheet1.csv')"
      ],
      "execution_count": 166,
      "outputs": []
    },
    {
      "cell_type": "code",
      "metadata": {
        "colab": {
          "base_uri": "https://localhost:8080/"
        },
        "id": "CQTJKE-CMw1Y",
        "outputId": "583e25ad-eaf5-4099-e8d8-2b1d5bb26e63"
      },
      "source": [
        "df.shape"
      ],
      "execution_count": 167,
      "outputs": [
        {
          "output_type": "execute_result",
          "data": {
            "text/plain": [
              "(1925, 231)"
            ]
          },
          "metadata": {},
          "execution_count": 167
        }
      ]
    },
    {
      "cell_type": "code",
      "metadata": {
        "colab": {
          "base_uri": "https://localhost:8080/"
        },
        "id": "KDIsfxG_MyQz",
        "outputId": "bb8ca2a7-dbc6-4b7f-87fb-e6dcb11c7bf6"
      },
      "source": [
        "df.columns"
      ],
      "execution_count": 168,
      "outputs": [
        {
          "output_type": "execute_result",
          "data": {
            "text/plain": [
              "Index(['PATIENT_VISIT_IDENTIFIER', 'AGE_ABOVE65', 'AGE_PERCENTIL', 'GENDER',\n",
              "       'DISEASE GROUPING 1', 'DISEASE GROUPING 2', 'DISEASE GROUPING 3',\n",
              "       'DISEASE GROUPING 4', 'DISEASE GROUPING 5', 'DISEASE GROUPING 6',\n",
              "       ...\n",
              "       'TEMPERATURE_DIFF', 'OXYGEN_SATURATION_DIFF',\n",
              "       'BLOODPRESSURE_DIASTOLIC_DIFF_REL', 'BLOODPRESSURE_SISTOLIC_DIFF_REL',\n",
              "       'HEART_RATE_DIFF_REL', 'RESPIRATORY_RATE_DIFF_REL',\n",
              "       'TEMPERATURE_DIFF_REL', 'OXYGEN_SATURATION_DIFF_REL', 'WINDOW', 'ICU'],\n",
              "      dtype='object', length=231)"
            ]
          },
          "metadata": {},
          "execution_count": 168
        }
      ]
    },
    {
      "cell_type": "markdown",
      "metadata": {
        "id": "ox9zFWGYtuR7"
      },
      "source": [
        "## **Exploratory Data Analysis**"
      ]
    },
    {
      "cell_type": "markdown",
      "metadata": {
        "id": "FKHfOXcQt6KV"
      },
      "source": [
        "**A chart to show how many patients were admitted into the ICU**"
      ]
    },
    {
      "cell_type": "code",
      "metadata": {
        "colab": {
          "base_uri": "https://localhost:8080/",
          "height": 108
        },
        "id": "dk9r1-U4wK56",
        "outputId": "9be304e9-da5a-4a04-8195-2598ac17ce4e"
      },
      "source": [
        "above_12_df = df[df['WINDOW'] == 'ABOVE_12']\n",
        "#group by ICU admission\n",
        "above_12_df = above_12_df.groupby(by= 'ICU')['PATIENT_VISIT_IDENTIFIER'].count().reset_index()\n",
        "above_12_df.columns = ['ICU', 'NUMBER_ADMITTED']\n",
        "above_12_df"
      ],
      "execution_count": 171,
      "outputs": [
        {
          "output_type": "execute_result",
          "data": {
            "text/html": [
              "<div>\n",
              "<style scoped>\n",
              "    .dataframe tbody tr th:only-of-type {\n",
              "        vertical-align: middle;\n",
              "    }\n",
              "\n",
              "    .dataframe tbody tr th {\n",
              "        vertical-align: top;\n",
              "    }\n",
              "\n",
              "    .dataframe thead th {\n",
              "        text-align: right;\n",
              "    }\n",
              "</style>\n",
              "<table border=\"1\" class=\"dataframe\">\n",
              "  <thead>\n",
              "    <tr style=\"text-align: right;\">\n",
              "      <th></th>\n",
              "      <th>ICU</th>\n",
              "      <th>NUMBER_ADMITTED</th>\n",
              "    </tr>\n",
              "  </thead>\n",
              "  <tbody>\n",
              "    <tr>\n",
              "      <th>0</th>\n",
              "      <td>0</td>\n",
              "      <td>190</td>\n",
              "    </tr>\n",
              "    <tr>\n",
              "      <th>1</th>\n",
              "      <td>1</td>\n",
              "      <td>195</td>\n",
              "    </tr>\n",
              "  </tbody>\n",
              "</table>\n",
              "</div>"
            ],
            "text/plain": [
              "   ICU  NUMBER_ADMITTED\n",
              "0    0              190\n",
              "1    1              195"
            ]
          },
          "metadata": {},
          "execution_count": 171
        }
      ]
    },
    {
      "cell_type": "code",
      "metadata": {
        "colab": {
          "base_uri": "https://localhost:8080/",
          "height": 401
        },
        "id": "Kue6cih1xHEN",
        "outputId": "312ae0ad-671f-465a-80be-a51a8126b938"
      },
      "source": [
        "#plotting the bar chart\n",
        "plt.figure(figsize= (3,4))\n",
        "plt.xticks(rotation= 90)\n",
        "g = sns.barplot(x='ICU', y= 'NUMBER_ADMITTED', data= above_12_df, color='navy')\n",
        "plt.title('Number of ICU admissions', fontdict= {'fontsize' : 14})\n",
        "g.set(xlabel= 'ICU admission', ylabel = 'Number of admissions', xticklabels= ['Admitted', 'Not Admitted'])\n"
      ],
      "execution_count": 172,
      "outputs": [
        {
          "output_type": "execute_result",
          "data": {
            "text/plain": [
              "[Text(0, 0.5, 'Number of admissions'),\n",
              " [Text(0, 0, 'Admitted'), Text(0, 0, 'Not Admitted')],\n",
              " Text(0.5, 0, 'ICU admission')]"
            ]
          },
          "metadata": {},
          "execution_count": 172
        },
        {
          "output_type": "display_data",
          "data": {
            "image/png": "[encoded data removed]",
            "text/plain": [
              "<Figure size 216x288 with 1 Axes>"
            ]
          },
          "metadata": {
            "needs_background": "light"
          }
        }
      ]
    },
    {
      "cell_type": "markdown",
      "metadata": {
        "id": "ne5IBF2KqCR1"
      },
      "source": [
        "# **Plotting the distribution of ICU admission window**"
      ]
    },
    {
      "cell_type": "code",
      "metadata": {
        "id": "5DP5-RE2zbDf"
      },
      "source": [
        "#Obtain a dataframe of only patients admitted\n",
        "#What I need\n",
        "#x_axis: all the windows\n",
        "#y_axis: number of ICU admissions\n",
        "\n",
        "#first obtain dataframe of only patients that got an ICU addmission\n",
        "#get the id of patients who's above_16's ICU is 1\n",
        "df_above12 = df[df['WINDOW'] == 'ABOVE_12']\n",
        "icu_by_id = df_above12[df_above12['ICU'] == 1]['PATIENT_VISIT_IDENTIFIER']"
      ],
      "execution_count": 173,
      "outputs": []
    },
    {
      "cell_type": "code",
      "metadata": {
        "id": "dtd_2a5TvinM"
      },
      "source": [
        "#get all patients that were admitted into the id \n",
        "icu_df = df[df['PATIENT_VISIT_IDENTIFIER'].isin(icu_by_id)]"
      ],
      "execution_count": 174,
      "outputs": []
    },
    {
      "cell_type": "code",
      "metadata": {
        "id": "wZzIq5RBwLGH"
      },
      "source": [
        "#return the index of the 'WINDOW' of first occurence of ICU admission status for each patient\n",
        "trial = icu_df.groupby('PATIENT_VISIT_IDENTIFIER')['ICU'].idxmax()"
      ],
      "execution_count": 175,
      "outputs": []
    },
    {
      "cell_type": "code",
      "metadata": {
        "colab": {
          "base_uri": "https://localhost:8080/",
          "height": 200
        },
        "id": "UySe3JH2aZVu",
        "outputId": "350ace4a-5d28-4a99-82ad-6ba54dc94659"
      },
      "source": [
        "#return the rows corresponding to these indexes\n",
        "first_time_icu_df = icu_df.loc[trial]\n",
        "\n",
        "#return the frequency of first occurence of ICU admission status per window\n",
        "\n",
        "#GROUP BY WINDOW\n",
        "first_time_icu_df = first_time_icu_df.groupby('WINDOW')['PATIENT_VISIT_IDENTIFIER'].count().reset_index()\n",
        "first_time_icu_df.rename(columns= {'PATIENT_VISIT_IDENTIFIER' :'ICU_ADMISSIONS'}, inplace=True)\n",
        "\n",
        "first_time_icu_df"
      ],
      "execution_count": 176,
      "outputs": [
        {
          "output_type": "execute_result",
          "data": {
            "text/html": [
              "<div>\n",
              "<style scoped>\n",
              "    .dataframe tbody tr th:only-of-type {\n",
              "        vertical-align: middle;\n",
              "    }\n",
              "\n",
              "    .dataframe tbody tr th {\n",
              "        vertical-align: top;\n",
              "    }\n",
              "\n",
              "    .dataframe thead th {\n",
              "        text-align: right;\n",
              "    }\n",
              "</style>\n",
              "<table border=\"1\" class=\"dataframe\">\n",
              "  <thead>\n",
              "    <tr style=\"text-align: right;\">\n",
              "      <th></th>\n",
              "      <th>WINDOW</th>\n",
              "      <th>ICU_ADMISSIONS</th>\n",
              "    </tr>\n",
              "  </thead>\n",
              "  <tbody>\n",
              "    <tr>\n",
              "      <th>0</th>\n",
              "      <td>0-2</td>\n",
              "      <td>32</td>\n",
              "    </tr>\n",
              "    <tr>\n",
              "      <th>1</th>\n",
              "      <td>2-4</td>\n",
              "      <td>27</td>\n",
              "    </tr>\n",
              "    <tr>\n",
              "      <th>2</th>\n",
              "      <td>4-6</td>\n",
              "      <td>40</td>\n",
              "    </tr>\n",
              "    <tr>\n",
              "      <th>3</th>\n",
              "      <td>6-12</td>\n",
              "      <td>31</td>\n",
              "    </tr>\n",
              "    <tr>\n",
              "      <th>4</th>\n",
              "      <td>ABOVE_12</td>\n",
              "      <td>65</td>\n",
              "    </tr>\n",
              "  </tbody>\n",
              "</table>\n",
              "</div>"
            ],
            "text/plain": [
              "     WINDOW  ICU_ADMISSIONS\n",
              "0       0-2              32\n",
              "1       2-4              27\n",
              "2       4-6              40\n",
              "3      6-12              31\n",
              "4  ABOVE_12              65"
            ]
          },
          "metadata": {},
          "execution_count": 176
        }
      ]
    },
    {
      "cell_type": "code",
      "metadata": {
        "colab": {
          "base_uri": "https://localhost:8080/",
          "height": 312
        },
        "id": "QTRrc2CMVh6i",
        "outputId": "b3446e9e-6c29-43d5-dc11-856cca608754"
      },
      "source": [
        "#plotting the graph\n",
        "plt.figure(figsize=(7,4))\n",
        "g = sns.barplot(x= 'WINDOW', y= 'ICU_ADMISSIONS', data= first_time_icu_df, color= 'navy')\n",
        "g.set(title= 'Frequency Distribution of Window period for ICU admissions')\n"
      ],
      "execution_count": 177,
      "outputs": [
        {
          "output_type": "execute_result",
          "data": {
            "text/plain": [
              "[Text(0.5, 1.0, 'Frequency Distribution of Window period for ICU admissions')]"
            ]
          },
          "metadata": {},
          "execution_count": 177
        },
        {
          "output_type": "display_data",
          "data": {
            "image/png": "[encoded data removed]",
            "text/plain": [
              "<Figure size 504x288 with 1 Axes>"
            ]
          },
          "metadata": {
            "needs_background": "light"
          }
        }
      ]
    },
    {
      "cell_type": "code",
      "metadata": {
        "colab": {
          "base_uri": "https://localhost:8080/"
        },
        "id": "6fuJZhQuZMK5",
        "outputId": "74170662-94f2-44b0-cf48-f43b68790064"
      },
      "source": [
        "#checking for duplicate columns\n",
        "print(df.shape)\n",
        "df = df.T.drop_duplicates().T\n",
        "print(df.shape)\n"
      ],
      "execution_count": 178,
      "outputs": [
        {
          "output_type": "stream",
          "name": "stdout",
          "text": [
            "(1925, 231)\n",
            "(1925, 88)\n"
          ]
        }
      ]
    },
    {
      "cell_type": "markdown",
      "metadata": {
        "id": "C5OOVvORAElt"
      },
      "source": [
        "# **Missing values**  \n",
        "Windows with missing values will be filled with values from neighbouring windows for each patient."
      ]
    },
    {
      "cell_type": "code",
      "metadata": {
        "id": "9wGxT3rPSknt"
      },
      "source": [
        "new_df = df.groupby('PATIENT_VISIT_IDENTIFIER').fillna(method= 'bfill').fillna(method= 'ffill')\n",
        "# print(new_df.head())\n",
        "new_df.insert(0, 'PATIENT_VISIT_IDENTIFIER', df['PATIENT_VISIT_IDENTIFIER'])\n",
        "df = new_df\n"
      ],
      "execution_count": null,
      "outputs": []
    },
    {
      "cell_type": "code",
      "metadata": {
        "colab": {
          "base_uri": "https://localhost:8080/",
          "height": 252
        },
        "id": "2zbPBQZYk2gQ",
        "outputId": "4c453be2-7881-4a51-d85d-51218a34a001"
      },
      "source": [
        "df.head()"
      ],
      "execution_count": 189,
      "outputs": [
        {
          "output_type": "execute_result",
          "data": {
            "text/html": [
              "<div>\n",
              "<style scoped>\n",
              "    .dataframe tbody tr th:only-of-type {\n",
              "        vertical-align: middle;\n",
              "    }\n",
              "\n",
              "    .dataframe tbody tr th {\n",
              "        vertical-align: top;\n",
              "    }\n",
              "\n",
              "    .dataframe thead th {\n",
              "        text-align: right;\n",
              "    }\n",
              "</style>\n",
              "<table border=\"1\" class=\"dataframe\">\n",
              "  <thead>\n",
              "    <tr style=\"text-align: right;\">\n",
              "      <th></th>\n",
              "      <th>PATIENT_VISIT_IDENTIFIER</th>\n",
              "      <th>AGE_ABOVE65</th>\n",
              "      <th>AGE_PERCENTIL</th>\n",
              "      <th>GENDER</th>\n",
              "      <th>DISEASE GROUPING 1</th>\n",
              "      <th>DISEASE GROUPING 2</th>\n",
              "      <th>DISEASE GROUPING 3</th>\n",
              "      <th>DISEASE GROUPING 4</th>\n",
              "      <th>DISEASE GROUPING 5</th>\n",
              "      <th>DISEASE GROUPING 6</th>\n",
              "      <th>HTN</th>\n",
              "      <th>IMMUNOCOMPROMISED</th>\n",
              "      <th>OTHER</th>\n",
              "      <th>ALBUMIN_MEDIAN</th>\n",
              "      <th>ALBUMIN_DIFF</th>\n",
              "      <th>BE_ARTERIAL_MEDIAN</th>\n",
              "      <th>BE_VENOUS_MEDIAN</th>\n",
              "      <th>BIC_ARTERIAL_MEDIAN</th>\n",
              "      <th>BIC_VENOUS_MEDIAN</th>\n",
              "      <th>BILLIRUBIN_MEDIAN</th>\n",
              "      <th>BLAST_MEDIAN</th>\n",
              "      <th>CALCIUM_MEDIAN</th>\n",
              "      <th>CREATININ_MEDIAN</th>\n",
              "      <th>FFA_MEDIAN</th>\n",
              "      <th>GGT_MEDIAN</th>\n",
              "      <th>GLUCOSE_MEDIAN</th>\n",
              "      <th>HEMATOCRITE_MEDIAN</th>\n",
              "      <th>HEMOGLOBIN_MEDIAN</th>\n",
              "      <th>INR_MEDIAN</th>\n",
              "      <th>LACTATE_MEDIAN</th>\n",
              "      <th>LEUKOCYTES_MEDIAN</th>\n",
              "      <th>LINFOCITOS_MEDIAN</th>\n",
              "      <th>NEUTROPHILES_MEDIAN</th>\n",
              "      <th>P02_ARTERIAL_MEDIAN</th>\n",
              "      <th>P02_VENOUS_MEDIAN</th>\n",
              "      <th>PC02_ARTERIAL_MEDIAN</th>\n",
              "      <th>PC02_VENOUS_MEDIAN</th>\n",
              "      <th>PCR_MEDIAN</th>\n",
              "      <th>PH_ARTERIAL_MEDIAN</th>\n",
              "      <th>PH_VENOUS_MEDIAN</th>\n",
              "      <th>PLATELETS_MEDIAN</th>\n",
              "      <th>POTASSIUM_MEDIAN</th>\n",
              "      <th>SAT02_ARTERIAL_MEDIAN</th>\n",
              "      <th>SAT02_VENOUS_MEDIAN</th>\n",
              "      <th>SODIUM_MEDIAN</th>\n",
              "      <th>TGO_MEDIAN</th>\n",
              "      <th>TGP_MEDIAN</th>\n",
              "      <th>TTPA_MEDIAN</th>\n",
              "      <th>UREA_MEDIAN</th>\n",
              "      <th>DIMER_MEDIAN</th>\n",
              "      <th>BLOODPRESSURE_DIASTOLIC_MEAN</th>\n",
              "      <th>BLOODPRESSURE_SISTOLIC_MEAN</th>\n",
              "      <th>HEART_RATE_MEAN</th>\n",
              "      <th>RESPIRATORY_RATE_MEAN</th>\n",
              "      <th>TEMPERATURE_MEAN</th>\n",
              "      <th>OXYGEN_SATURATION_MEAN</th>\n",
              "      <th>BLOODPRESSURE_DIASTOLIC_MEDIAN</th>\n",
              "      <th>BLOODPRESSURE_SISTOLIC_MEDIAN</th>\n",
              "      <th>HEART_RATE_MEDIAN</th>\n",
              "      <th>RESPIRATORY_RATE_MEDIAN</th>\n",
              "      <th>TEMPERATURE_MEDIAN</th>\n",
              "      <th>OXYGEN_SATURATION_MEDIAN</th>\n",
              "      <th>BLOODPRESSURE_DIASTOLIC_MIN</th>\n",
              "      <th>BLOODPRESSURE_SISTOLIC_MIN</th>\n",
              "      <th>HEART_RATE_MIN</th>\n",
              "      <th>RESPIRATORY_RATE_MIN</th>\n",
              "      <th>TEMPERATURE_MIN</th>\n",
              "      <th>OXYGEN_SATURATION_MIN</th>\n",
              "      <th>BLOODPRESSURE_DIASTOLIC_MAX</th>\n",
              "      <th>BLOODPRESSURE_SISTOLIC_MAX</th>\n",
              "      <th>HEART_RATE_MAX</th>\n",
              "      <th>RESPIRATORY_RATE_MAX</th>\n",
              "      <th>TEMPERATURE_MAX</th>\n",
              "      <th>OXYGEN_SATURATION_MAX</th>\n",
              "      <th>BLOODPRESSURE_DIASTOLIC_DIFF</th>\n",
              "      <th>BLOODPRESSURE_SISTOLIC_DIFF</th>\n",
              "      <th>HEART_RATE_DIFF</th>\n",
              "      <th>RESPIRATORY_RATE_DIFF</th>\n",
              "      <th>TEMPERATURE_DIFF</th>\n",
              "      <th>OXYGEN_SATURATION_DIFF</th>\n",
              "      <th>BLOODPRESSURE_DIASTOLIC_DIFF_REL</th>\n",
              "      <th>BLOODPRESSURE_SISTOLIC_DIFF_REL</th>\n",
              "      <th>HEART_RATE_DIFF_REL</th>\n",
              "      <th>RESPIRATORY_RATE_DIFF_REL</th>\n",
              "      <th>TEMPERATURE_DIFF_REL</th>\n",
              "      <th>OXYGEN_SATURATION_DIFF_REL</th>\n",
              "      <th>WINDOW</th>\n",
              "      <th>ICU</th>\n",
              "    </tr>\n",
              "  </thead>\n",
              "  <tbody>\n",
              "    <tr>\n",
              "      <th>0</th>\n",
              "      <td>0</td>\n",
              "      <td>1</td>\n",
              "      <td>60th</td>\n",
              "      <td>0</td>\n",
              "      <td>0.0</td>\n",
              "      <td>0.0</td>\n",
              "      <td>0.0</td>\n",
              "      <td>0.0</td>\n",
              "      <td>1.0</td>\n",
              "      <td>1.0</td>\n",
              "      <td>0.0</td>\n",
              "      <td>0.0</td>\n",
              "      <td>1.0</td>\n",
              "      <td>0.605263</td>\n",
              "      <td>-1.0</td>\n",
              "      <td>-1.000000</td>\n",
              "      <td>-1.000000</td>\n",
              "      <td>-0.317073</td>\n",
              "      <td>-0.317073</td>\n",
              "      <td>-0.938950</td>\n",
              "      <td>-1.0</td>\n",
              "      <td>0.183673</td>\n",
              "      <td>-0.868365</td>\n",
              "      <td>-0.742004</td>\n",
              "      <td>-0.945093</td>\n",
              "      <td>-0.891993</td>\n",
              "      <td>0.090147</td>\n",
              "      <td>0.109756</td>\n",
              "      <td>-0.932246</td>\n",
              "      <td>1.000000</td>\n",
              "      <td>-0.835844</td>\n",
              "      <td>-0.914938</td>\n",
              "      <td>-0.868747</td>\n",
              "      <td>-0.170732</td>\n",
              "      <td>-0.704142</td>\n",
              "      <td>-0.779310</td>\n",
              "      <td>-0.754601</td>\n",
              "      <td>-0.875236</td>\n",
              "      <td>0.234043</td>\n",
              "      <td>0.363636</td>\n",
              "      <td>-0.540721</td>\n",
              "      <td>-0.518519</td>\n",
              "      <td>0.939394</td>\n",
              "      <td>0.345679</td>\n",
              "      <td>-0.028571</td>\n",
              "      <td>-0.997201</td>\n",
              "      <td>-0.990854</td>\n",
              "      <td>-0.825613</td>\n",
              "      <td>-0.836145</td>\n",
              "      <td>-0.994912</td>\n",
              "      <td>0.086420</td>\n",
              "      <td>-0.230769</td>\n",
              "      <td>-0.283019</td>\n",
              "      <td>-0.593220</td>\n",
              "      <td>-0.285714</td>\n",
              "      <td>0.736842</td>\n",
              "      <td>0.086420</td>\n",
              "      <td>-0.230769</td>\n",
              "      <td>-0.283019</td>\n",
              "      <td>-0.586207</td>\n",
              "      <td>-0.285714</td>\n",
              "      <td>0.736842</td>\n",
              "      <td>0.237113</td>\n",
              "      <td>0.0000</td>\n",
              "      <td>-0.162393</td>\n",
              "      <td>-0.500000</td>\n",
              "      <td>0.208791</td>\n",
              "      <td>0.898990</td>\n",
              "      <td>-0.247863</td>\n",
              "      <td>-0.459459</td>\n",
              "      <td>-0.432836</td>\n",
              "      <td>-0.636364</td>\n",
              "      <td>-0.420290</td>\n",
              "      <td>0.736842</td>\n",
              "      <td>-1.00000</td>\n",
              "      <td>-1.000000</td>\n",
              "      <td>-1.000000</td>\n",
              "      <td>-1.000000</td>\n",
              "      <td>-1.000000</td>\n",
              "      <td>-1.000000</td>\n",
              "      <td>-1.000000</td>\n",
              "      <td>-1.000000</td>\n",
              "      <td>-1.000000</td>\n",
              "      <td>-1.000000</td>\n",
              "      <td>-1.000000</td>\n",
              "      <td>-1.000000</td>\n",
              "      <td>0-2</td>\n",
              "      <td>0</td>\n",
              "    </tr>\n",
              "    <tr>\n",
              "      <th>1</th>\n",
              "      <td>0</td>\n",
              "      <td>1</td>\n",
              "      <td>60th</td>\n",
              "      <td>0</td>\n",
              "      <td>0.0</td>\n",
              "      <td>0.0</td>\n",
              "      <td>0.0</td>\n",
              "      <td>0.0</td>\n",
              "      <td>1.0</td>\n",
              "      <td>1.0</td>\n",
              "      <td>0.0</td>\n",
              "      <td>0.0</td>\n",
              "      <td>1.0</td>\n",
              "      <td>0.605263</td>\n",
              "      <td>-1.0</td>\n",
              "      <td>-1.000000</td>\n",
              "      <td>-1.000000</td>\n",
              "      <td>-0.317073</td>\n",
              "      <td>-0.317073</td>\n",
              "      <td>-0.938950</td>\n",
              "      <td>-1.0</td>\n",
              "      <td>0.183673</td>\n",
              "      <td>-0.868365</td>\n",
              "      <td>-0.742004</td>\n",
              "      <td>-0.945093</td>\n",
              "      <td>-0.891993</td>\n",
              "      <td>0.090147</td>\n",
              "      <td>0.109756</td>\n",
              "      <td>-0.932246</td>\n",
              "      <td>1.000000</td>\n",
              "      <td>-0.835844</td>\n",
              "      <td>-0.914938</td>\n",
              "      <td>-0.868747</td>\n",
              "      <td>-0.170732</td>\n",
              "      <td>-0.704142</td>\n",
              "      <td>-0.779310</td>\n",
              "      <td>-0.754601</td>\n",
              "      <td>-0.875236</td>\n",
              "      <td>0.234043</td>\n",
              "      <td>0.363636</td>\n",
              "      <td>-0.540721</td>\n",
              "      <td>-0.518519</td>\n",
              "      <td>0.939394</td>\n",
              "      <td>0.345679</td>\n",
              "      <td>-0.028571</td>\n",
              "      <td>-0.997201</td>\n",
              "      <td>-0.990854</td>\n",
              "      <td>-0.825613</td>\n",
              "      <td>-0.836145</td>\n",
              "      <td>-0.994912</td>\n",
              "      <td>0.333333</td>\n",
              "      <td>-0.230769</td>\n",
              "      <td>-0.132075</td>\n",
              "      <td>-0.593220</td>\n",
              "      <td>0.535714</td>\n",
              "      <td>0.578947</td>\n",
              "      <td>0.333333</td>\n",
              "      <td>-0.230769</td>\n",
              "      <td>-0.132075</td>\n",
              "      <td>-0.586207</td>\n",
              "      <td>0.535714</td>\n",
              "      <td>0.578947</td>\n",
              "      <td>0.443299</td>\n",
              "      <td>0.0000</td>\n",
              "      <td>-0.025641</td>\n",
              "      <td>-0.500000</td>\n",
              "      <td>0.714286</td>\n",
              "      <td>0.838384</td>\n",
              "      <td>-0.076923</td>\n",
              "      <td>-0.459459</td>\n",
              "      <td>-0.313433</td>\n",
              "      <td>-0.636364</td>\n",
              "      <td>0.246377</td>\n",
              "      <td>0.578947</td>\n",
              "      <td>-1.00000</td>\n",
              "      <td>-1.000000</td>\n",
              "      <td>-1.000000</td>\n",
              "      <td>-1.000000</td>\n",
              "      <td>-1.000000</td>\n",
              "      <td>-1.000000</td>\n",
              "      <td>-1.000000</td>\n",
              "      <td>-1.000000</td>\n",
              "      <td>-1.000000</td>\n",
              "      <td>-1.000000</td>\n",
              "      <td>-1.000000</td>\n",
              "      <td>-1.000000</td>\n",
              "      <td>2-4</td>\n",
              "      <td>0</td>\n",
              "    </tr>\n",
              "    <tr>\n",
              "      <th>2</th>\n",
              "      <td>0</td>\n",
              "      <td>1</td>\n",
              "      <td>60th</td>\n",
              "      <td>0</td>\n",
              "      <td>0.0</td>\n",
              "      <td>0.0</td>\n",
              "      <td>0.0</td>\n",
              "      <td>0.0</td>\n",
              "      <td>1.0</td>\n",
              "      <td>1.0</td>\n",
              "      <td>0.0</td>\n",
              "      <td>0.0</td>\n",
              "      <td>1.0</td>\n",
              "      <td>0.605263</td>\n",
              "      <td>-1.0</td>\n",
              "      <td>-1.000000</td>\n",
              "      <td>-1.000000</td>\n",
              "      <td>-0.317073</td>\n",
              "      <td>-0.317073</td>\n",
              "      <td>-0.938950</td>\n",
              "      <td>-1.0</td>\n",
              "      <td>0.183673</td>\n",
              "      <td>-0.868365</td>\n",
              "      <td>-0.742004</td>\n",
              "      <td>-0.945093</td>\n",
              "      <td>-0.891993</td>\n",
              "      <td>0.090147</td>\n",
              "      <td>0.109756</td>\n",
              "      <td>-0.932246</td>\n",
              "      <td>1.000000</td>\n",
              "      <td>-0.835844</td>\n",
              "      <td>-0.914938</td>\n",
              "      <td>-0.868747</td>\n",
              "      <td>-0.170732</td>\n",
              "      <td>-0.704142</td>\n",
              "      <td>-0.779310</td>\n",
              "      <td>-0.754601</td>\n",
              "      <td>-0.875236</td>\n",
              "      <td>0.234043</td>\n",
              "      <td>0.363636</td>\n",
              "      <td>-0.540721</td>\n",
              "      <td>-0.518519</td>\n",
              "      <td>0.939394</td>\n",
              "      <td>0.345679</td>\n",
              "      <td>-0.028571</td>\n",
              "      <td>-0.997201</td>\n",
              "      <td>-0.990854</td>\n",
              "      <td>-0.825613</td>\n",
              "      <td>-0.836145</td>\n",
              "      <td>-0.994912</td>\n",
              "      <td>-0.243021</td>\n",
              "      <td>-0.338537</td>\n",
              "      <td>-0.213031</td>\n",
              "      <td>-0.317859</td>\n",
              "      <td>-0.107143</td>\n",
              "      <td>0.736842</td>\n",
              "      <td>-0.283951</td>\n",
              "      <td>-0.376923</td>\n",
              "      <td>-0.188679</td>\n",
              "      <td>-0.379310</td>\n",
              "      <td>-0.107143</td>\n",
              "      <td>0.736842</td>\n",
              "      <td>-0.340206</td>\n",
              "      <td>-0.4875</td>\n",
              "      <td>-0.572650</td>\n",
              "      <td>-0.857143</td>\n",
              "      <td>0.318681</td>\n",
              "      <td>0.898990</td>\n",
              "      <td>-0.076923</td>\n",
              "      <td>0.286486</td>\n",
              "      <td>0.298507</td>\n",
              "      <td>0.272727</td>\n",
              "      <td>-0.275362</td>\n",
              "      <td>0.736842</td>\n",
              "      <td>-0.33913</td>\n",
              "      <td>0.325153</td>\n",
              "      <td>0.114504</td>\n",
              "      <td>0.176471</td>\n",
              "      <td>-1.000000</td>\n",
              "      <td>-1.000000</td>\n",
              "      <td>-0.389967</td>\n",
              "      <td>0.407558</td>\n",
              "      <td>-0.230462</td>\n",
              "      <td>0.096774</td>\n",
              "      <td>-1.000000</td>\n",
              "      <td>-1.000000</td>\n",
              "      <td>4-6</td>\n",
              "      <td>0</td>\n",
              "    </tr>\n",
              "    <tr>\n",
              "      <th>3</th>\n",
              "      <td>0</td>\n",
              "      <td>1</td>\n",
              "      <td>60th</td>\n",
              "      <td>0</td>\n",
              "      <td>0.0</td>\n",
              "      <td>0.0</td>\n",
              "      <td>0.0</td>\n",
              "      <td>0.0</td>\n",
              "      <td>1.0</td>\n",
              "      <td>1.0</td>\n",
              "      <td>0.0</td>\n",
              "      <td>0.0</td>\n",
              "      <td>1.0</td>\n",
              "      <td>0.000000</td>\n",
              "      <td>-1.0</td>\n",
              "      <td>-0.871658</td>\n",
              "      <td>-0.863874</td>\n",
              "      <td>-0.317073</td>\n",
              "      <td>-0.414634</td>\n",
              "      <td>-0.979069</td>\n",
              "      <td>-1.0</td>\n",
              "      <td>0.326531</td>\n",
              "      <td>-0.926398</td>\n",
              "      <td>-0.859275</td>\n",
              "      <td>-0.669393</td>\n",
              "      <td>-0.891993</td>\n",
              "      <td>-0.320755</td>\n",
              "      <td>-0.353659</td>\n",
              "      <td>-0.979925</td>\n",
              "      <td>-0.963023</td>\n",
              "      <td>-0.762843</td>\n",
              "      <td>-0.643154</td>\n",
              "      <td>-0.868747</td>\n",
              "      <td>-0.365854</td>\n",
              "      <td>-0.230769</td>\n",
              "      <td>-0.875862</td>\n",
              "      <td>-0.815951</td>\n",
              "      <td>-1.000000</td>\n",
              "      <td>0.574468</td>\n",
              "      <td>0.393939</td>\n",
              "      <td>-0.471295</td>\n",
              "      <td>-0.666667</td>\n",
              "      <td>0.848485</td>\n",
              "      <td>0.925926</td>\n",
              "      <td>0.142857</td>\n",
              "      <td>-0.999067</td>\n",
              "      <td>-0.983994</td>\n",
              "      <td>-0.846633</td>\n",
              "      <td>-0.836145</td>\n",
              "      <td>-0.996762</td>\n",
              "      <td>-0.243021</td>\n",
              "      <td>-0.338537</td>\n",
              "      <td>-0.213031</td>\n",
              "      <td>-0.317859</td>\n",
              "      <td>-0.107143</td>\n",
              "      <td>0.736842</td>\n",
              "      <td>-0.283951</td>\n",
              "      <td>-0.376923</td>\n",
              "      <td>-0.188679</td>\n",
              "      <td>-0.379310</td>\n",
              "      <td>-0.107143</td>\n",
              "      <td>0.736842</td>\n",
              "      <td>-0.340206</td>\n",
              "      <td>-0.4875</td>\n",
              "      <td>-0.572650</td>\n",
              "      <td>-0.857143</td>\n",
              "      <td>0.318681</td>\n",
              "      <td>0.898990</td>\n",
              "      <td>-0.076923</td>\n",
              "      <td>0.286486</td>\n",
              "      <td>0.298507</td>\n",
              "      <td>0.272727</td>\n",
              "      <td>-0.275362</td>\n",
              "      <td>0.736842</td>\n",
              "      <td>-0.33913</td>\n",
              "      <td>0.325153</td>\n",
              "      <td>0.114504</td>\n",
              "      <td>0.176471</td>\n",
              "      <td>-1.000000</td>\n",
              "      <td>-1.000000</td>\n",
              "      <td>-0.389967</td>\n",
              "      <td>0.407558</td>\n",
              "      <td>-0.230462</td>\n",
              "      <td>0.096774</td>\n",
              "      <td>-1.000000</td>\n",
              "      <td>-1.000000</td>\n",
              "      <td>6-12</td>\n",
              "      <td>0</td>\n",
              "    </tr>\n",
              "    <tr>\n",
              "      <th>4</th>\n",
              "      <td>0</td>\n",
              "      <td>1</td>\n",
              "      <td>60th</td>\n",
              "      <td>0</td>\n",
              "      <td>0.0</td>\n",
              "      <td>0.0</td>\n",
              "      <td>0.0</td>\n",
              "      <td>0.0</td>\n",
              "      <td>1.0</td>\n",
              "      <td>1.0</td>\n",
              "      <td>0.0</td>\n",
              "      <td>0.0</td>\n",
              "      <td>1.0</td>\n",
              "      <td>0.000000</td>\n",
              "      <td>-1.0</td>\n",
              "      <td>-0.871658</td>\n",
              "      <td>-0.863874</td>\n",
              "      <td>-0.317073</td>\n",
              "      <td>-0.414634</td>\n",
              "      <td>-0.979069</td>\n",
              "      <td>-1.0</td>\n",
              "      <td>0.326531</td>\n",
              "      <td>-0.926398</td>\n",
              "      <td>-0.859275</td>\n",
              "      <td>-0.669393</td>\n",
              "      <td>-0.891993</td>\n",
              "      <td>-0.320755</td>\n",
              "      <td>-0.353659</td>\n",
              "      <td>-0.979925</td>\n",
              "      <td>-0.963023</td>\n",
              "      <td>-0.762843</td>\n",
              "      <td>-0.643154</td>\n",
              "      <td>-0.868747</td>\n",
              "      <td>-0.365854</td>\n",
              "      <td>-0.230769</td>\n",
              "      <td>-0.875862</td>\n",
              "      <td>-0.815951</td>\n",
              "      <td>-1.000000</td>\n",
              "      <td>0.574468</td>\n",
              "      <td>0.393939</td>\n",
              "      <td>-0.471295</td>\n",
              "      <td>-0.666667</td>\n",
              "      <td>0.848485</td>\n",
              "      <td>0.925926</td>\n",
              "      <td>0.142857</td>\n",
              "      <td>-0.999067</td>\n",
              "      <td>-0.983994</td>\n",
              "      <td>-0.846633</td>\n",
              "      <td>-0.836145</td>\n",
              "      <td>-0.996762</td>\n",
              "      <td>-0.243021</td>\n",
              "      <td>-0.338537</td>\n",
              "      <td>-0.213031</td>\n",
              "      <td>-0.317859</td>\n",
              "      <td>0.033779</td>\n",
              "      <td>0.665932</td>\n",
              "      <td>-0.283951</td>\n",
              "      <td>-0.376923</td>\n",
              "      <td>-0.188679</td>\n",
              "      <td>-0.379310</td>\n",
              "      <td>0.035714</td>\n",
              "      <td>0.631579</td>\n",
              "      <td>-0.340206</td>\n",
              "      <td>-0.4875</td>\n",
              "      <td>-0.572650</td>\n",
              "      <td>-0.857143</td>\n",
              "      <td>0.098901</td>\n",
              "      <td>0.797980</td>\n",
              "      <td>-0.076923</td>\n",
              "      <td>0.286486</td>\n",
              "      <td>0.298507</td>\n",
              "      <td>0.272727</td>\n",
              "      <td>0.362319</td>\n",
              "      <td>0.947368</td>\n",
              "      <td>-0.33913</td>\n",
              "      <td>0.325153</td>\n",
              "      <td>0.114504</td>\n",
              "      <td>0.176471</td>\n",
              "      <td>-0.238095</td>\n",
              "      <td>-0.818182</td>\n",
              "      <td>-0.389967</td>\n",
              "      <td>0.407558</td>\n",
              "      <td>-0.230462</td>\n",
              "      <td>0.096774</td>\n",
              "      <td>-0.242282</td>\n",
              "      <td>-0.814433</td>\n",
              "      <td>ABOVE_12</td>\n",
              "      <td>1</td>\n",
              "    </tr>\n",
              "  </tbody>\n",
              "</table>\n",
              "</div>"
            ],
            "text/plain": [
              "  PATIENT_VISIT_IDENTIFIER  AGE_ABOVE65 AGE_PERCENTIL  GENDER  \\\n",
              "0                        0            1          60th       0   \n",
              "1                        0            1          60th       0   \n",
              "2                        0            1          60th       0   \n",
              "3                        0            1          60th       0   \n",
              "4                        0            1          60th       0   \n",
              "\n",
              "   DISEASE GROUPING 1  DISEASE GROUPING 2  DISEASE GROUPING 3  \\\n",
              "0                 0.0                 0.0                 0.0   \n",
              "1                 0.0                 0.0                 0.0   \n",
              "2                 0.0                 0.0                 0.0   \n",
              "3                 0.0                 0.0                 0.0   \n",
              "4                 0.0                 0.0                 0.0   \n",
              "\n",
              "   DISEASE GROUPING 4  DISEASE GROUPING 5  DISEASE GROUPING 6  HTN  \\\n",
              "0                 0.0                 1.0                 1.0  0.0   \n",
              "1                 0.0                 1.0                 1.0  0.0   \n",
              "2                 0.0                 1.0                 1.0  0.0   \n",
              "3                 0.0                 1.0                 1.0  0.0   \n",
              "4                 0.0                 1.0                 1.0  0.0   \n",
              "\n",
              "   IMMUNOCOMPROMISED  OTHER  ALBUMIN_MEDIAN  ALBUMIN_DIFF  BE_ARTERIAL_MEDIAN  \\\n",
              "0                0.0    1.0        0.605263          -1.0           -1.000000   \n",
              "1                0.0    1.0        0.605263          -1.0           -1.000000   \n",
              "2                0.0    1.0        0.605263          -1.0           -1.000000   \n",
              "3                0.0    1.0        0.000000          -1.0           -0.871658   \n",
              "4                0.0    1.0        0.000000          -1.0           -0.871658   \n",
              "\n",
              "   BE_VENOUS_MEDIAN  BIC_ARTERIAL_MEDIAN  BIC_VENOUS_MEDIAN  \\\n",
              "0         -1.000000            -0.317073          -0.317073   \n",
              "1         -1.000000            -0.317073          -0.317073   \n",
              "2         -1.000000            -0.317073          -0.317073   \n",
              "3         -0.863874            -0.317073          -0.414634   \n",
              "4         -0.863874            -0.317073          -0.414634   \n",
              "\n",
              "   BILLIRUBIN_MEDIAN  BLAST_MEDIAN  CALCIUM_MEDIAN  CREATININ_MEDIAN  \\\n",
              "0          -0.938950          -1.0        0.183673         -0.868365   \n",
              "1          -0.938950          -1.0        0.183673         -0.868365   \n",
              "2          -0.938950          -1.0        0.183673         -0.868365   \n",
              "3          -0.979069          -1.0        0.326531         -0.926398   \n",
              "4          -0.979069          -1.0        0.326531         -0.926398   \n",
              "\n",
              "   FFA_MEDIAN  GGT_MEDIAN  GLUCOSE_MEDIAN  HEMATOCRITE_MEDIAN  \\\n",
              "0   -0.742004   -0.945093       -0.891993            0.090147   \n",
              "1   -0.742004   -0.945093       -0.891993            0.090147   \n",
              "2   -0.742004   -0.945093       -0.891993            0.090147   \n",
              "3   -0.859275   -0.669393       -0.891993           -0.320755   \n",
              "4   -0.859275   -0.669393       -0.891993           -0.320755   \n",
              "\n",
              "   HEMOGLOBIN_MEDIAN  INR_MEDIAN  LACTATE_MEDIAN  LEUKOCYTES_MEDIAN  \\\n",
              "0           0.109756   -0.932246        1.000000          -0.835844   \n",
              "1           0.109756   -0.932246        1.000000          -0.835844   \n",
              "2           0.109756   -0.932246        1.000000          -0.835844   \n",
              "3          -0.353659   -0.979925       -0.963023          -0.762843   \n",
              "4          -0.353659   -0.979925       -0.963023          -0.762843   \n",
              "\n",
              "   LINFOCITOS_MEDIAN  NEUTROPHILES_MEDIAN  P02_ARTERIAL_MEDIAN  \\\n",
              "0          -0.914938            -0.868747            -0.170732   \n",
              "1          -0.914938            -0.868747            -0.170732   \n",
              "2          -0.914938            -0.868747            -0.170732   \n",
              "3          -0.643154            -0.868747            -0.365854   \n",
              "4          -0.643154            -0.868747            -0.365854   \n",
              "\n",
              "   P02_VENOUS_MEDIAN  PC02_ARTERIAL_MEDIAN  PC02_VENOUS_MEDIAN  PCR_MEDIAN  \\\n",
              "0          -0.704142             -0.779310           -0.754601   -0.875236   \n",
              "1          -0.704142             -0.779310           -0.754601   -0.875236   \n",
              "2          -0.704142             -0.779310           -0.754601   -0.875236   \n",
              "3          -0.230769             -0.875862           -0.815951   -1.000000   \n",
              "4          -0.230769             -0.875862           -0.815951   -1.000000   \n",
              "\n",
              "   PH_ARTERIAL_MEDIAN  PH_VENOUS_MEDIAN  PLATELETS_MEDIAN  POTASSIUM_MEDIAN  \\\n",
              "0            0.234043          0.363636         -0.540721         -0.518519   \n",
              "1            0.234043          0.363636         -0.540721         -0.518519   \n",
              "2            0.234043          0.363636         -0.540721         -0.518519   \n",
              "3            0.574468          0.393939         -0.471295         -0.666667   \n",
              "4            0.574468          0.393939         -0.471295         -0.666667   \n",
              "\n",
              "   SAT02_ARTERIAL_MEDIAN  SAT02_VENOUS_MEDIAN  SODIUM_MEDIAN  TGO_MEDIAN  \\\n",
              "0               0.939394             0.345679      -0.028571   -0.997201   \n",
              "1               0.939394             0.345679      -0.028571   -0.997201   \n",
              "2               0.939394             0.345679      -0.028571   -0.997201   \n",
              "3               0.848485             0.925926       0.142857   -0.999067   \n",
              "4               0.848485             0.925926       0.142857   -0.999067   \n",
              "\n",
              "   TGP_MEDIAN  TTPA_MEDIAN  UREA_MEDIAN  DIMER_MEDIAN  \\\n",
              "0   -0.990854    -0.825613    -0.836145     -0.994912   \n",
              "1   -0.990854    -0.825613    -0.836145     -0.994912   \n",
              "2   -0.990854    -0.825613    -0.836145     -0.994912   \n",
              "3   -0.983994    -0.846633    -0.836145     -0.996762   \n",
              "4   -0.983994    -0.846633    -0.836145     -0.996762   \n",
              "\n",
              "   BLOODPRESSURE_DIASTOLIC_MEAN  BLOODPRESSURE_SISTOLIC_MEAN  HEART_RATE_MEAN  \\\n",
              "0                      0.086420                    -0.230769        -0.283019   \n",
              "1                      0.333333                    -0.230769        -0.132075   \n",
              "2                     -0.243021                    -0.338537        -0.213031   \n",
              "3                     -0.243021                    -0.338537        -0.213031   \n",
              "4                     -0.243021                    -0.338537        -0.213031   \n",
              "\n",
              "   RESPIRATORY_RATE_MEAN  TEMPERATURE_MEAN  OXYGEN_SATURATION_MEAN  \\\n",
              "0              -0.593220         -0.285714                0.736842   \n",
              "1              -0.593220          0.535714                0.578947   \n",
              "2              -0.317859         -0.107143                0.736842   \n",
              "3              -0.317859         -0.107143                0.736842   \n",
              "4              -0.317859          0.033779                0.665932   \n",
              "\n",
              "   BLOODPRESSURE_DIASTOLIC_MEDIAN  BLOODPRESSURE_SISTOLIC_MEDIAN  \\\n",
              "0                        0.086420                      -0.230769   \n",
              "1                        0.333333                      -0.230769   \n",
              "2                       -0.283951                      -0.376923   \n",
              "3                       -0.283951                      -0.376923   \n",
              "4                       -0.283951                      -0.376923   \n",
              "\n",
              "   HEART_RATE_MEDIAN  RESPIRATORY_RATE_MEDIAN  TEMPERATURE_MEDIAN  \\\n",
              "0          -0.283019                -0.586207           -0.285714   \n",
              "1          -0.132075                -0.586207            0.535714   \n",
              "2          -0.188679                -0.379310           -0.107143   \n",
              "3          -0.188679                -0.379310           -0.107143   \n",
              "4          -0.188679                -0.379310            0.035714   \n",
              "\n",
              "   OXYGEN_SATURATION_MEDIAN  BLOODPRESSURE_DIASTOLIC_MIN  \\\n",
              "0                  0.736842                     0.237113   \n",
              "1                  0.578947                     0.443299   \n",
              "2                  0.736842                    -0.340206   \n",
              "3                  0.736842                    -0.340206   \n",
              "4                  0.631579                    -0.340206   \n",
              "\n",
              "   BLOODPRESSURE_SISTOLIC_MIN  HEART_RATE_MIN  RESPIRATORY_RATE_MIN  \\\n",
              "0                      0.0000       -0.162393             -0.500000   \n",
              "1                      0.0000       -0.025641             -0.500000   \n",
              "2                     -0.4875       -0.572650             -0.857143   \n",
              "3                     -0.4875       -0.572650             -0.857143   \n",
              "4                     -0.4875       -0.572650             -0.857143   \n",
              "\n",
              "   TEMPERATURE_MIN  OXYGEN_SATURATION_MIN  BLOODPRESSURE_DIASTOLIC_MAX  \\\n",
              "0         0.208791               0.898990                    -0.247863   \n",
              "1         0.714286               0.838384                    -0.076923   \n",
              "2         0.318681               0.898990                    -0.076923   \n",
              "3         0.318681               0.898990                    -0.076923   \n",
              "4         0.098901               0.797980                    -0.076923   \n",
              "\n",
              "   BLOODPRESSURE_SISTOLIC_MAX  HEART_RATE_MAX  RESPIRATORY_RATE_MAX  \\\n",
              "0                   -0.459459       -0.432836             -0.636364   \n",
              "1                   -0.459459       -0.313433             -0.636364   \n",
              "2                    0.286486        0.298507              0.272727   \n",
              "3                    0.286486        0.298507              0.272727   \n",
              "4                    0.286486        0.298507              0.272727   \n",
              "\n",
              "   TEMPERATURE_MAX  OXYGEN_SATURATION_MAX  BLOODPRESSURE_DIASTOLIC_DIFF  \\\n",
              "0        -0.420290               0.736842                      -1.00000   \n",
              "1         0.246377               0.578947                      -1.00000   \n",
              "2        -0.275362               0.736842                      -0.33913   \n",
              "3        -0.275362               0.736842                      -0.33913   \n",
              "4         0.362319               0.947368                      -0.33913   \n",
              "\n",
              "   BLOODPRESSURE_SISTOLIC_DIFF  HEART_RATE_DIFF  RESPIRATORY_RATE_DIFF  \\\n",
              "0                    -1.000000        -1.000000              -1.000000   \n",
              "1                    -1.000000        -1.000000              -1.000000   \n",
              "2                     0.325153         0.114504               0.176471   \n",
              "3                     0.325153         0.114504               0.176471   \n",
              "4                     0.325153         0.114504               0.176471   \n",
              "\n",
              "   TEMPERATURE_DIFF  OXYGEN_SATURATION_DIFF  BLOODPRESSURE_DIASTOLIC_DIFF_REL  \\\n",
              "0         -1.000000               -1.000000                         -1.000000   \n",
              "1         -1.000000               -1.000000                         -1.000000   \n",
              "2         -1.000000               -1.000000                         -0.389967   \n",
              "3         -1.000000               -1.000000                         -0.389967   \n",
              "4         -0.238095               -0.818182                         -0.389967   \n",
              "\n",
              "   BLOODPRESSURE_SISTOLIC_DIFF_REL  HEART_RATE_DIFF_REL  \\\n",
              "0                        -1.000000            -1.000000   \n",
              "1                        -1.000000            -1.000000   \n",
              "2                         0.407558            -0.230462   \n",
              "3                         0.407558            -0.230462   \n",
              "4                         0.407558            -0.230462   \n",
              "\n",
              "   RESPIRATORY_RATE_DIFF_REL  TEMPERATURE_DIFF_REL  \\\n",
              "0                  -1.000000             -1.000000   \n",
              "1                  -1.000000             -1.000000   \n",
              "2                   0.096774             -1.000000   \n",
              "3                   0.096774             -1.000000   \n",
              "4                   0.096774             -0.242282   \n",
              "\n",
              "   OXYGEN_SATURATION_DIFF_REL    WINDOW  ICU  \n",
              "0                   -1.000000       0-2    0  \n",
              "1                   -1.000000       2-4    0  \n",
              "2                   -1.000000       4-6    0  \n",
              "3                   -1.000000      6-12    0  \n",
              "4                   -0.814433  ABOVE_12    1  "
            ]
          },
          "metadata": {},
          "execution_count": 189
        }
      ]
    },
    {
      "cell_type": "markdown",
      "metadata": {
        "id": "7wFkyQ06MtoN"
      },
      "source": [
        "# **Selecting data for modeling**  \n",
        "We will be using the data from the first window (0-2) for our modelling."
      ]
    },
    {
      "cell_type": "code",
      "metadata": {
        "id": "FZ-uLnb90xyt"
      },
      "source": [
        "data = df[(df['WINDOW'] == '0-2') & (df['ICU'] != 1 )]"
      ],
      "execution_count": 181,
      "outputs": []
    },
    {
      "cell_type": "markdown",
      "metadata": {
        "id": "vjCkthYC45UW"
      },
      "source": [
        "**Splitting the columns into four groups; Demographics, vital signs, comorbidity, labtests**"
      ]
    },
    {
      "cell_type": "code",
      "metadata": {
        "id": "fAUj8NfIq8Kh"
      },
      "source": [
        "#list of demographics: percentile age, above 60 years and gender\n",
        "demo_list = [i for i in data.columns if 'AGE_' in i]\n",
        "demo_list.append('GENDER')\n",
        "\n",
        "#list of comorbidities\n",
        "comorb_list = [i for i in data.columns if 'DISEASE'  in i]\n",
        "comorb_list.extend(['HTN', 'IMMUNOCOMPROMISED', 'OTHER'])\n",
        "\n",
        "#list of lab tests\n",
        "lab_list = [i for i in data.loc[:, 'ALBUMIN_MEDIAN':'DIMER_MEDIAN']]\n",
        "\n",
        "#list of vital sign tests\n",
        "vitalsigns_list = [i for i in data.loc[:, 'BLOODPRESSURE_DIASTOLIC_MEAN':'OXYGEN_SATURATION_DIFF_REL'] ]\n"
      ],
      "execution_count": 183,
      "outputs": []
    },
    {
      "cell_type": "code",
      "metadata": {
        "colab": {
          "base_uri": "https://localhost:8080/"
        },
        "id": "Y_PlOvfK-tKn",
        "outputId": "1802739d-90b8-4865-cb6b-1a6cca20e234"
      },
      "source": [
        "print(f\"Number of Comorbities features: {len(comorb_list)}\") \n",
        "print(f\"Number of Demographics features: {len(demo_list)}\") \n",
        "print(f\"Number of Vital Signs features: {len(vitalsigns_list)}\") \n",
        "print(f\"Number of Laboratory features: {len(lab_list)}\") \n"
      ],
      "execution_count": 185,
      "outputs": [
        {
          "output_type": "stream",
          "name": "stdout",
          "text": [
            "Number of Comorbities features: 9\n",
            "Number of Demographics features: 3\n",
            "Number of Vital Signs features: 36\n",
            "Number of Laboratory features: 37\n"
          ]
        }
      ]
    }
  ]
}